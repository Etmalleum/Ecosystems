{
 "cells": [
  {
   "cell_type": "markdown",
   "metadata": {},
   "source": [
    "# Modeling two-phase systems\n",
    "Before we begin modelling different forms of biomass we first need to consider the enviroment in which these organisms will thrive. Our previous models were mainly concerned with only a single liquid phase where the impact that these systems would have on their coresponding gas phase is minimal. The system we are aiming to model is expected to have a considerable impact on its coresponding gas phase and as a result we need to consider some gas-liquid interactions.\n",
    "\n",
    "To simplify things we will first consider a completely inorganic system with atmospheric condtions like our own and no oxidised nitrogen. This gives the oppurtunity to look an inorganic part of the nitrogen cycle which will most likely not find its way into our later models."
   ]
  },
  {
   "cell_type": "markdown",
   "metadata": {},
   "source": [
    "## Inorganic nitrogen fixation.\n",
    "The process through which Nitrogen is fixated by the environment consist out of three reaction steps. The first two reactions occur during thunder storm, where the lightning stikes serves to provide the energy for oxidizing nitrogen into nitrogen oxides.\n",
    "\n",
    "$$ N_2 + O_2 \\rightarrow 2NO $$\n",
    "$$ 2NO + O_2 \\rightarrow 2NO_2 $$\n",
    "\n",
    "The second step occurs after the resulting nitrogen dioxide gas cools down. Upon which the gas reacts with water to form nitrous and nitric acid to achieve an equilibrium.https://doi.org/10.1021/ie50552a048\n",
    "\n",
    "$$ 2NO_2 + H_2O \\rightleftharpoons HNO_2 + HNO_3 $$ \n",
    "\n",
    "For further simplicity we will assume that this reaction is complete and that a negible amount of Nitrogen oxides remain in the gas phase. As a result we can combine these three reactions into one overall first order rate beased reaction, which is dependant on the amount of lightining present.\n",
    "\n",
    "$$ N_2 + 2O_2 + H_2O \\rightarrow HNO_2 + HNO_3 $$\n",
    "\n",
    "$$\\frac{dN_{i}}{dT} = \\zeta_i$$"
   ]
  },
  {
   "cell_type": "code",
   "execution_count": 1,
   "metadata": {},
   "outputs": [],
   "source": [
    "import numpy as np\n",
    "def Storm(ζ):\n",
    "    return np.array([0,0,0,0,0,-ζ,-2*ζ,0,-1*ζ,0,0,ζ,ζ])\n"
   ]
  },
  {
   "cell_type": "markdown",
   "metadata": {},
   "source": [
    "## Environment\n",
    "Now that we have a simple rate based phenomena, which affects components in both the liquid and the gas phase, we can simulate what happens to nitrogen during a thunderstorm. To do this we first need to pay some attention to our environment. The environment which we have chosen aims to immiate a 5 $m^3$ section of open ocean water and 15 $m^3$ of air. The system is completely seperated from the rest of the world, with the exception that light is able to pass through it.\n",
    "![title](environment.png)\n",
    "In this system we make several assumptions:\n",
    "1. Only the compounds $N_2$,$O_2$ and $CO_2$ are in gas form.\n",
    "2. All gasses are ideal.\n",
    "3. Gasses dissolved in water obeys Henry's law.\n",
    "4. Solutes, present in the liquid, does not affect the liquid volume.\n",
    "5. A constant temperature of $25 ^oC$\n",
    "\n",
    "### Order of compononents\n",
    "In these models we will only concern ourselves with 13 different forms of matter: 5 forms of biomas, 3 gasses, 3 nitrogen based compounds, water and sugar. To keep things uniform the compounds will always be represented in code in this specific order.\n",
    "\n",
    "$$N_{total} = [X_1,X_2,X_3,X_4,X_5,N_2,O_2,CO_2,H_2O,G,NH_4,NO_2,NO_3]\\space(mol\\space or\\space cmol)$$\n",
    "$$C_{liquid} = [C_{X_1},C_{X_2},C_{X_3},C_{X_4},C_{X_5},C_{N_2},C_{O_2},C_{CO_2},C_{H_2O},C_{G},C_{NH_4},C_{NO_2},C_{NO_3}]   \\space(\\frac{mol}{m^3}\\space or\\space \\frac{cmol}{m^3})$$\n",
    "$$P_i = [P_{O_2},P_{CO_2},P_{N_2}]$$\n",
    "\n",
    "Sections of the model which only concerns itself with a specific subset of these compounds will have spacers for the missing compounds. Refer to the $Storm(\\zeta)$ function above for further clarity."
   ]
  },
  {
   "cell_type": "markdown",
   "metadata": {},
   "source": [
    "#### Environmental Parameters"
   ]
  },
  {
   "cell_type": "code",
   "execution_count": 2,
   "metadata": {},
   "outputs": [],
   "source": [
    "Vt =20 #m3\n",
    "T = 25 +273.15 #C\n",
    "R = 8.314 "
   ]
  },
  {
   "cell_type": "markdown",
   "metadata": {},
   "source": [
    "#### Molar Density"
   ]
  },
  {
   "cell_type": "code",
   "execution_count": 3,
   "metadata": {},
   "outputs": [],
   "source": [
    "ρ_h20 = 997000/18 # mol/m3"
   ]
  },
  {
   "cell_type": "markdown",
   "metadata": {},
   "source": [
    "#### Henry's constants"
   ]
  },
  {
   "cell_type": "code",
   "execution_count": 4,
   "metadata": {},
   "outputs": [],
   "source": [
    "H_N2 = 6.4*10**-6\n",
    "H_O2 = 1.3*10**-5\n",
    "H_CO2 = 3.3*10**-4\n",
    "H_N2O = 2.4*10**-4\n",
    "H_NO = 1.9*10**-5\n",
    "H_NO2 = 1.2*10**-4"
   ]
  },
  {
   "cell_type": "markdown",
   "metadata": {},
   "source": [
    "### Time triggered events\n",
    "In our first simulation we will simulate a strong thunder storm for 40 hours followed by 10 hours with no storm."
   ]
  },
  {
   "cell_type": "code",
   "execution_count": 5,
   "metadata": {},
   "outputs": [],
   "source": [
    "def t40(t):\n",
    "    if t <= 40:\n",
    "        return 1\n",
    "    else:\n",
    "        return 0"
   ]
  },
  {
   "cell_type": "markdown",
   "metadata": {},
   "source": [
    "### The Environment"
   ]
  },
  {
   "cell_type": "code",
   "execution_count": 15,
   "metadata": {},
   "outputs": [],
   "source": [
    "def Conc(N):\n",
    "    X1,X2,X3,X4,X5,N2,O2,CO2,H2O,G,NH4,NO2,NO3 = N\n",
    "    p_O2,p_CO2,p_N2 = Pressure(N)\n",
    "    \n",
    "    Vl = H2O/ρ_h20\n",
    "    C_O2  = H_O2*p_O2\n",
    "    C_CO2 = H_CO2*p_CO2\n",
    "    C_N2  = H_N2*p_N2\n",
    "    \n",
    "    C_X1   = X1/Vl\n",
    "    C_NH4 = NH4/Vl \n",
    "    C_G   = G/Vl\n",
    "    C_NO2 = NO2/Vl\n",
    "    C_NO3 = NO3/Vl\n",
    "    \n",
    "    C_X1 = X1/Vl\n",
    "    C_X2 = X2/Vl\n",
    "    C_X3 = X3/Vl\n",
    "    C_X4 = X4/Vl\n",
    "    C_X5 = X5/Vl\n",
    "    C_H2O = 1\n",
    "    return np.array([C_X1,C_X2,C_X3,C_X4,C_X5,C_N2,C_O2,C_CO2,C_H2O,C_G,C_NH4,C_NO2,C_NO3])\n",
    "\n",
    "def Pressure(N):\n",
    "    X1,X2,X3,X4,X5,N2,O2,CO2,H2O,G,NH4,NO2,NO3 = N\n",
    "    Vl = H2O/ρ_h20\n",
    "    Vg = Vt - Vl\n",
    "    n_gas = O2 + CO2 + N2 \n",
    "    P = n_gas*R*T/Vg\n",
    "    p_O2,p_CO2,p_N2 = O2/n_gas*P, CO2/n_gas*P, N2/n_gas*P\n",
    "    return np.array([p_O2,p_CO2,p_N2])\n",
    "\n",
    "def S1(N,t):\n",
    "    X1,X2,X3,X4,X5,N2,O2,CO2,H2O,G,NH4,NO2,NO3 = N\n",
    "    C = Conc(N)\n",
    "\n",
    "    # Time triggered change in environment\n",
    "    ζ = t40(t)\n",
    "    \n",
    "    #Processes/Organisms\n",
    "    D1 = Storm(ζ)\n",
    "    \n",
    "    Change = D1\n",
    "    return Change"
   ]
  },
  {
   "cell_type": "code",
   "execution_count": null,
   "metadata": {},
   "outputs": [],
   "source": [
    "from scipy.integrate import odeint\n",
    "from matplotlib import pyplot as plt"
   ]
  },
  {
   "cell_type": "code",
   "execution_count": 53,
   "metadata": {},
   "outputs": [],
   "source": [
    "tmax = 50\n",
    "tspan = np.arange(0,tmax,1)\n",
    "n= 650\n",
    "IN = [0,0,0,0,0,0.79*n,0.2*n,0.01*n,ρ_h20*5,0,0,0,0]\n",
    "N = odeint(S1,IN,tspan).T"
   ]
  },
  {
   "cell_type": "markdown",
   "metadata": {},
   "source": [
    "There we have our first simulation, next we will produce a function which will help us visualise our simulations."
   ]
  },
  {
   "cell_type": "code",
   "execution_count": 54,
   "metadata": {},
   "outputs": [],
   "source": [
    "def Illistrate(N,tspan,tmax,light,storm):\n",
    "    X1,X2,X3,X4,X5,N2,O2,CO2,H2O,G,NH3,NO2,NO3 = N\n",
    "    Vl = H2O/ρ_h20\n",
    "    #Gas phase\n",
    "    N_gas = N2 + O2 + CO2\n",
    "    plt.plot(tspan,N2*100/N_gas,label = '$N_2$')\n",
    "    plt.plot(tspan,O2*100/N_gas,label = '$O_2$')\n",
    "    plt.plot(tspan,CO2*100/N_gas,label = '$CO_2$')\n",
    "    plt.ylim(0,100)\n",
    "    plt.xlim(0,tmax)\n",
    "    plt.ylabel('Gas percentage')\n",
    "    plt.xlabel('Time (h)')\n",
    "    plt.legend(loc = 0)\n",
    "    plt.show()\n",
    "    \n",
    "\n",
    "    \n",
    "    #Concentrations\n",
    "    C = Conc(N)/1000 #cmol/L\n",
    "    \n",
    "    #Biomass\n",
    "    x1 = np.amax(C[0])\n",
    "    x2 = np.amax(C[1])\n",
    "    x3 = np.amax(C[2])\n",
    "    x4 = np.amax(C[3])\n",
    "    x5 = np.amax(C[4])\n",
    "    xm = max([x1,x2,x3,x4,x5])\n",
    "    plt.plot(tspan,C[0],label = '$X_1$')\n",
    "    plt.plot(tspan,C[1],label = '$X_2$')\n",
    "    plt.plot(tspan,C[2],label = '$X_3$')\n",
    "    plt.plot(tspan,C[3],label = '$X_4$')\n",
    "    plt.plot(tspan,C[4],label = '$X_5$')\n",
    "    plt.ylim(0,10)\n",
    "    if xm !=0:\n",
    "        plt.ylim(0,xm*1.1)\n",
    "    plt.xlim(0,tmax)\n",
    "    plt.ylabel('Biomass (cmol/L)')\n",
    "    plt.xlabel('Time (h)')\n",
    "    plt.legend(loc = 0)\n",
    "    plt.show()  \n",
    "    \n",
    "    x1 = np.amax(C[10])\n",
    "    x2 = np.amax(C[11])\n",
    "    x3 = np.amax(C[12])\n",
    "    xm = max([x1,x2,x3])\n",
    "    plt.plot(tspan,C[10],label = '$NH_4$')\n",
    "    plt.plot(tspan,C[11],label = '$NO_2$')\n",
    "    plt.plot(tspan,C[12],label = '$NO_3$')\n",
    "    plt.ylim(0,10)\n",
    "    if xm !=0:\n",
    "        plt.ylim(0,xm*1.1)\n",
    "    plt.xlim(0,tmax)\n",
    "    plt.ylabel('Concentration (cmol/L)')\n",
    "    plt.xlabel('Time (h)')\n",
    "    plt.legend(loc = 0)\n",
    "    plt.show()  \n",
    "    \n",
    "    xm = np.amax(C[9])\n",
    "    plt.plot(tspan,C[9],label = '$Glucose$')\n",
    "    if light != None:\n",
    "        plt.plot(tspan,[light(i)*xm/50 for i in tspan],label = '$Light$')\n",
    "    plt.ylim(0,10)\n",
    "    if xm !=0:\n",
    "        plt.ylim(0,xm*1.1)\n",
    "    plt.xlim(0,tmax)\n",
    "    plt.ylabel('Concentration (cmol/L)')\n",
    "    plt.xlabel('Time (h)')\n",
    "    plt.legend(loc = 0)\n",
    "    plt.show()"
   ]
  },
  {
   "cell_type": "code",
   "execution_count": 55,
   "metadata": {
    "scrolled": false
   },
   "outputs": [
    {
     "data": {
      "image/png": "[encoded data removed]",
      "text/plain": [
       "<Figure size 432x288 with 1 Axes>"
      ]
     },
     "metadata": {},
     "output_type": "display_data"
    },
    {
     "data": {
      "image/png": "[encoded data removed]",
      "text/plain": [
       "<Figure size 432x288 with 1 Axes>"
      ]
     },
     "metadata": {},
     "output_type": "display_data"
    },
    {
     "data": {
      "image/png": "[encoded data removed]",
      "text/plain": [
       "<Figure size 432x288 with 1 Axes>"
      ]
     },
     "metadata": {},
     "output_type": "display_data"
    },
    {
     "data": {
      "image/png": "[encoded data removed]",
      "text/plain": [
       "<Figure size 432x288 with 1 Axes>"
      ]
     },
     "metadata": {},
     "output_type": "display_data"
    }
   ],
   "source": [
    "Illistrate(N,tspan,tmax,None,None)"
   ]
  },
  {
   "cell_type": "code",
   "execution_count": null,
   "metadata": {},
   "outputs": [],
   "source": []
  }
 ],
 "metadata": {
  "kernelspec": {
   "display_name": "Python 3",
   "language": "python",
   "name": "python3"
  },
  "language_info": {
   "codemirror_mode": {
    "name": "ipython",
    "version": 3
   },
   "file_extension": ".py",
   "mimetype": "text/x-python",
   "name": "python",
   "nbconvert_exporter": "python",
   "pygments_lexer": "ipython3",
   "version": "3.6.5"
  }
 },
 "nbformat": 4,
 "nbformat_minor": 2
}
